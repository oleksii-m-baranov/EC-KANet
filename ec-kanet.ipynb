{
 "cells": [
  {
   "cell_type": "code",
   "id": "initial_id",
   "metadata": {
    "jupyter": {
     "is_executing": true
    }
   },
   "source": [
    "import os\n",
    "\n",
    "import matplotlib.pyplot as plt\n",
    "import numpy as np\n",
    "from tensorflow import keras\n",
    "\n",
    "from keras.layers  import Dense\n",
    "from tensorflow.keras import layers"
   ],
   "outputs": [],
   "execution_count": null
  },
  {
   "cell_type": "code",
   "id": "30f3b73203ef8207",
   "metadata": {},
   "source": [
    "NUM_TRAIN = 50_000  # there are 50000 training examples in CIFAR-10\n",
    "NUM_TEST = 10_000  # there are 10000 test examples in CIFAR-10\n",
    "NUM_NRF = 6  # number of radial basis functions\n",
    "NUM_CLASSES = 10\n",
    "\n",
    "INPUT_SIGNALS = {\n",
    "    'cct': {'train': {'min': -2.9318686, 'max': 5.517675},\n",
    "            'test': {'min': -2.8747954, 'max': 5.2203484},\n",
    "            'signals': {'min': -2.9318686, 'max': 5.517675}},\n",
    "    'eat': {'train': {'min': 4.619322e-05, 'max': 0.99732083},\n",
    "            'test': {'min': 0.00015154292, 'max': 0.9963026},\n",
    "            'signals': {'min': 4.619322e-05, 'max': 0.99732083}},\n",
    "    'fnet': {'train': {'min': -12.315351, 'max': 16.69544}, \n",
    "             'test': {'min': -12.172157, 'max': 15.076705}, \n",
    "             'signals': {'min': -12.315351, 'max': 16.69544}},\n",
    "    'conv': {'train': {'min': 0.0, 'max': 1.0}, \n",
    "             'test': {'min': 0.0, 'max': 1.0}, \n",
    "             'signals': {'min': 0.0, 'max': 1.0}},\n",
    "    'gmlp': {'train': {'min': -10.501355, 'max': 25.318792}, \n",
    "             'test': {'min': -10.048989, 'max': 22.385761}, \n",
    "             'signals': {'min': -10.501355, 'max': 25.318792}},\n",
    "    'mlp_mixer': {'train': {'min': -14.840056, 'max': 26.011475},\n",
    "                  'test': {'min': -14.86421, 'max': 24.304762},\n",
    "                  'signals': {'min': -14.86421, 'max': 26.011475}},\n",
    "    'swin_trans': {'train': {'min': 3.1436898e-07, 'max': 0.9996327}, \n",
    "                   'test': {'min': 3.2155782e-07, 'max': 0.99982965}, \n",
    "                   'signals': {'min': 3.1436898e-07, 'max': 0.99982965}},\n",
    "}"
   ],
   "outputs": [],
   "execution_count": null
  },
  {
   "cell_type": "code",
   "id": "c1ece2c329893a5a",
   "metadata": {},
   "source": [
    "nn_types = ['cct', 'eat', 'fnet', 'conv', 'gmlp', 'mlp_mixer', 'swin_trans']  # specify NNs\n",
    "\n",
    "for nn_type in nn_types:\n",
    "    if nn_type not in INPUT_SIGNALS:\n",
    "        raise ValueError(f\"Unknown neural network type - {nn_type}.\")"
   ],
   "outputs": [],
   "execution_count": null
  },
  {
   "cell_type": "code",
   "id": "6eb6abdd40fc90c3",
   "metadata": {},
   "source": [
    "def rf(x, mu, sigma):\n",
    "    return np.exp(- ((x - mu) ** 2)/(2*(sigma**2)))\n",
    "\n",
    "\n",
    "def prepare_data(nn_type: str):\n",
    "    print(f\"Preparing data for '{nn_type}' network\")\n",
    "\n",
    "    X_test = [np.zeros((NUM_TEST, NUM_NRF), 'float') for _ in range(NUM_CLASSES)]\n",
    "    X_train = [np.zeros((NUM_TRAIN, NUM_NRF), 'float') for _ in range(NUM_CLASSES)]\n",
    "    xvs = np.zeros((NUM_NRF), 'float')  # array of radial basis functions centers\n",
    "    \n",
    "    # base_vars\n",
    "    x_min = INPUT_SIGNALS[nn_type.lower()]['signals']['min']\n",
    "    x_max = INPUT_SIGNALS[nn_type.lower()]['signals']['max']\n",
    "    work_dir = os.getcwd()\n",
    "    train_file_path = os.path.join(work_dir, 'resources', 'input-data', nn_type.lower(), 's_pred_train.npy')\n",
    "    test_file_path = os.path.join(work_dir, 'resources', 'input-data', nn_type.lower(), 's_pred_test.npy')\n",
    "    \n",
    "    xvs[0] = x_min\n",
    "    xvs[NUM_NRF-1] = x_max\n",
    "    d = (x_max - x_min) / (NUM_NRF-1)\n",
    "    \n",
    "    for i in range(NUM_NRF-2):\n",
    "        xvs[i+1] = x_min + d*(i+1)\n",
    "    for i in range(NUM_NRF):\n",
    "        print(f\"xvs[{i}] = {xvs[i]}\")\n",
    "    \n",
    "    X = np.linspace(x_min, x_max, 1000)\n",
    "    sigma=(x_max-x_min)/ 8.4495436\n",
    "    for i in range(NUM_NRF):\n",
    "        mu = xvs[i]\n",
    "        plt.plot(X, rf(X, mu, sigma), color = 'b')\n",
    "    plt.show()\n",
    "    \n",
    "    # Load input data values\n",
    "    X_input_test = np.load(test_file_path)\n",
    "    X_input_train = np.load(train_file_path)\n",
    "    \n",
    "    for i in range(NUM_TEST):\n",
    "        for j in range(NUM_CLASSES):\n",
    "            for k in range(NUM_NRF):\n",
    "                X_test[j][i, k] = rf(X_input_test[i, j], xvs[k], sigma)\n",
    "\n",
    "    for i in range(NUM_TRAIN):\n",
    "        for j in range(NUM_CLASSES):\n",
    "            for k in range(NUM_NRF):\n",
    "                X_train[j][i, k] = rf(X_input_train[i, j], xvs[k], sigma)\n",
    "                \n",
    "    return X_train, X_test"
   ],
   "outputs": [],
   "execution_count": null
  },
  {
   "cell_type": "code",
   "id": "5180a98718e5d052",
   "metadata": {},
   "source": [
    "train_data = []\n",
    "test_data = []\n",
    "\n",
    "for nn_type in nn_types:\n",
    "    prep_train_data, prep_test_data = prepare_data(nn_type)\n",
    "    \n",
    "    train_data.extend(prep_train_data)\n",
    "    test_data.extend(prep_test_data)\n",
    "    \n",
    "train_data = {f\"inp{i}\": train_data[i] for i in range(len(train_data))}\n",
    "test_data = {f\"inp{i}\": test_data[i] for i in range(len(test_data))}"
   ],
   "outputs": [],
   "execution_count": null
  },
  {
   "cell_type": "code",
   "id": "412f7087b936e80d",
   "metadata": {},
   "source": [
    "# Loading Cifar10 for y_train and y_test\n",
    "(_, y_train), (_, y_test) = keras.datasets.cifar10.load_data()\n",
    "y_train = keras.utils.to_categorical(y_train, NUM_CLASSES)\n",
    "y_test = keras.utils.to_categorical(y_test, NUM_CLASSES)\n",
    "\n",
    "input_layers = [keras.Input(shape=(NUM_NRF,), name=f'inp{i}') for i in range(len(train_data))]\n",
    "\n",
    "output_layers = [Dense(1, kernel_initializer='glorot_uniform', use_bias=None)(input_layers[i]) for i in range(len(train_data))]\n",
    "\n",
    "x = layers.concatenate(output_layers)\n",
    "out = Dense(NUM_CLASSES, activation='softmax')(x)\n",
    "model = keras.Model(inputs=input_layers, outputs=out)\n",
    "model.summary()\n",
    "model.compile(optimizer=keras.optimizers.Adam(learning_rate=0.001),\n",
    "              loss='categorical_crossentropy',\n",
    "              metrics=['accuracy'])\n",
    "keras.utils.plot_model(model, 'multi_input_and_output_model.png', show_shapes=True)"
   ],
   "outputs": [],
   "execution_count": null
  },
  {
   "cell_type": "code",
   "id": "7a726722c2310c9",
   "metadata": {},
   "source": [
    "NUM_EPOCHS = 20\n",
    "BATCH_SIZE = 32\n",
    "\n",
    "history = model.fit(\n",
    "    train_data, \n",
    "    y_train,\n",
    "    epochs=NUM_EPOCHS, \n",
    "    batch_size=BATCH_SIZE,\n",
    "    validation_data=(\n",
    "        test_data, \n",
    "        y_test\n",
    "    )\n",
    ")"
   ],
   "outputs": [],
   "execution_count": null
  },
  {
   "cell_type": "code",
   "id": "44069366ae80cabb",
   "metadata": {},
   "source": [
    "plt.style.use(\"seaborn-v0_8\")\n",
    "f, ax = plt.subplots(1, 2, figsize=(15, 6))\n",
    "\n",
    "ax[0].plot(history.history['val_loss'],label='Testing Loss')\n",
    "ax[0].plot(history.history['loss'],label='Training Loss')\n",
    "ax[0].set_title('Losses',weight='bold',size='x-large')\n",
    "ax[0].set_xlabel('Epoch',size='large')\n",
    "ax[0].set_ylabel('Loss',size='large')\n",
    "ax[0].legend()\n",
    "\n",
    "ax[1].plot(history.history['val_accuracy'],label='Testing Accuracy')\n",
    "ax[1].plot(history.history['accuracy'],label='Training Accuracy')\n",
    "ax[1].set_title('Accuracies',weight='bold',size='x-large')\n",
    "ax[1].set_xlabel('Epoch',size='large')\n",
    "ax[1].set_ylabel('Accuracy',size='large')\n",
    "ax[1].legend()\n",
    "\n",
    "plt.show()"
   ],
   "outputs": [],
   "execution_count": null
  },
  {
   "cell_type": "code",
   "id": "7405e2b394cec639",
   "metadata": {},
   "source": [
    "model.get_weights()"
   ],
   "outputs": [],
   "execution_count": null
  }
 ],
 "metadata": {
  "kernelspec": {
   "display_name": "Python 3 (ipykernel)",
   "language": "python",
   "name": "python3"
  },
  "language_info": {
   "codemirror_mode": {
    "name": "ipython",
    "version": 3
   },
   "file_extension": ".py",
   "mimetype": "text/x-python",
   "name": "python",
   "nbconvert_exporter": "python",
   "pygments_lexer": "ipython3",
   "version": "3.10.14"
  }
 },
 "nbformat": 4,
 "nbformat_minor": 5
}
